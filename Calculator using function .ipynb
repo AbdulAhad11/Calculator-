{
  "nbformat": 4,
  "nbformat_minor": 0,
  "metadata": {
    "colab": {
      "name": "Untitled0.ipynb",
      "provenance": []
    },
    "kernelspec": {
      "name": "python3",
      "display_name": "Python 3"
    },
    "language_info": {
      "name": "python"
    }
  },
  "cells": [
    {
      "cell_type": "code",
      "metadata": {
        "colab": {
          "base_uri": "https://localhost:8080/"
        },
        "id": "ZdvtNG0lpsFb",
        "outputId": "361efd0e-6644-4f1a-b749-32ab89ee4981"
      },
      "source": [
        "a = int(input())\n",
        "b = int(input())\n",
        "def addition(num1,num2):\n",
        "  ans = num1+num2\n",
        "  print(\"the addition will be \",ans)\n",
        "addition(a,b)\n",
        "def subtraction(num1,num2):\n",
        "  ans = num1 - num2 \n",
        "  print(\"the subtraction will be \",ans)\n",
        "subtraction(a,b)\n",
        "def multiplication(num1,num2):\n",
        "  ans = num1*num2\n",
        "  print(\"the multiplication will be \",ans)\n",
        "multiplication(a,b)\n",
        "def division(num1,num2):\n",
        "  ans = num1/num2\n",
        "  print(\"the division will be \",ans)\n",
        "division(a,b)\n",
        "def remainder(num1,num2):\n",
        "  ans = num1%num2\n",
        "  print(\"the remainder will be \",ans)\n",
        "remainder(a,b) "
      ],
      "execution_count": 2,
      "outputs": [
        {
          "output_type": "stream",
          "name": "stdout",
          "text": [
            "5\n",
            "4\n",
            "the addition will be  9\n",
            "the subtraction will be  1\n",
            "the multiplication will be  20\n",
            "the division will be  1.25\n",
            "the remainder will be  1\n"
          ]
        }
      ]
    },
    {
      "cell_type": "code",
      "metadata": {
        "id": "CixaBy8CqNBY"
      },
      "source": [
        ""
      ],
      "execution_count": null,
      "outputs": []
    }
  ]
}